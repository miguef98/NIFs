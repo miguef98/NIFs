{
 "cells": [
  {
   "cell_type": "code",
   "execution_count": 1,
   "metadata": {},
   "outputs": [],
   "source": [
    "import numpy as np\n",
    "import meshplot as mp\n",
    "from src.obj import load\n",
    "from scipy.spatial import KDTree"
   ]
  },
  {
   "cell_type": "code",
   "execution_count": 2,
   "metadata": {},
   "outputs": [],
   "source": [
    "points, point_normals = load( 'data\\\\bunny\\\\bunny_pc.obj' )\n",
    "\n",
    "queryTree = KDTree( points )"
   ]
  },
  {
   "cell_type": "code",
   "execution_count": 3,
   "metadata": {},
   "outputs": [],
   "source": [
    "samplesBoundary = 10000\n",
    "domainBounds = ( [-1,-1,-1], [1,1,1] )\n",
    "boundaryPoints = np.random.uniform(\n",
    "    domainBounds[0], domainBounds[1],\n",
    "    (samplesBoundary, 3)\n",
    ")\n",
    "sel = np.random.randint(0, 3, samplesBoundary)\n",
    "boundaryPoints[ np.arange(len(boundaryPoints)), sel] = np.random.choice( [-1,1], samplesBoundary)"
   ]
  },
  {
   "cell_type": "code",
   "execution_count": 5,
   "metadata": {},
   "outputs": [
    {
     "data": {
      "application/vnd.jupyter.widget-view+json": {
       "model_id": "cccdcbf460ce46af869f4995ea3daabc",
       "version_major": 2,
       "version_minor": 0
      },
      "text/plain": [
       "Renderer(camera=PerspectiveCamera(children=(DirectionalLight(color='white', intensity=0.6, position=(0.0, 0.0,…"
      ]
     },
     "metadata": {},
     "output_type": "display_data"
    },
    {
     "data": {
      "text/plain": [
       "<meshplot.Viewer.Viewer at 0x1c2b5292ed0>"
      ]
     },
     "execution_count": 5,
     "metadata": {},
     "output_type": "execute_result"
    }
   ],
   "source": [
    "boundaryPointsDistance, _ = queryTree.query( boundaryPoints, k=1 )\n",
    "mp.plot( boundaryPoints, c=boundaryPointsDistance,  shading={'point_size':0.3})"
   ]
  },
  {
   "cell_type": "code",
   "execution_count": 21,
   "metadata": {},
   "outputs": [
    {
     "data": {
      "text/plain": [
       "array([[0],\n",
       "       [0],\n",
       "       [0],\n",
       "       [1],\n",
       "       [1],\n",
       "       [1],\n",
       "       [0],\n",
       "       [1],\n",
       "       [1],\n",
       "       [0]])"
      ]
     },
     "execution_count": 21,
     "metadata": {},
     "output_type": "execute_result"
    }
   ],
   "source": [
    "np.random.randint(0,3, (samplesBoundary,1))"
   ]
  },
  {
   "cell_type": "code",
   "execution_count": 5,
   "metadata": {},
   "outputs": [
    {
     "data": {
      "text/plain": [
       "array([[-1.        , -1.        , -1.        ],\n",
       "       [-0.22125912,  0.68024137,  0.37773061],\n",
       "       [ 1.        ,  1.        ,  1.        ],\n",
       "       [ 0.1795568 ,  0.76583603, -0.75417359],\n",
       "       [-0.7377466 , -0.84444573,  0.52102129],\n",
       "       [-0.1158639 , -0.13353965,  0.67067723],\n",
       "       [ 0.4838161 ,  0.30836044, -0.85380384],\n",
       "       [-0.34899677,  0.54490151, -0.55098788],\n",
       "       [ 0.69977255, -0.02106376, -0.42253741],\n",
       "       [-0.33149961,  0.14981577,  0.64187238]])"
      ]
     },
     "execution_count": 5,
     "metadata": {},
     "output_type": "execute_result"
    }
   ],
   "source": [
    "boundaryPoints"
   ]
  }
 ],
 "metadata": {
  "kernelspec": {
   "display_name": "labo",
   "language": "python",
   "name": "python3"
  },
  "language_info": {
   "codemirror_mode": {
    "name": "ipython",
    "version": 3
   },
   "file_extension": ".py",
   "mimetype": "text/x-python",
   "name": "python",
   "nbconvert_exporter": "python",
   "pygments_lexer": "ipython3",
   "version": "3.12.4"
  }
 },
 "nbformat": 4,
 "nbformat_minor": 2
}
