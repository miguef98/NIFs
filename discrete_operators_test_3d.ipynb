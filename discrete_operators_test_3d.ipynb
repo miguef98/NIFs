{
 "cells": [
  {
   "cell_type": "code",
   "execution_count": null,
   "metadata": {},
   "outputs": [],
   "source": [
    "import torch\n",
    "import numpy as np\n",
    "import matplotlib.pyplot as plt\n",
    "from src.model import SIREN\n",
    "import matplotlib.colors as mcolors\n",
    "from src.discrete_operators_3d import *\n",
    "from src.diff_operators import gradient, divergence"
   ]
  },
  {
   "cell_type": "code",
   "execution_count": null,
   "metadata": {},
   "outputs": [],
   "source": [
    "def evaluate( model, samples, max_batch=64**2, device=torch.device(0) ):\n",
    "    # samples = ( amount_samples, 3 )    \n",
    "    head = 0\n",
    "    amount_samples = samples.shape[0]\n",
    "\n",
    "    evaluations = np.zeros( (amount_samples, 1))\n",
    "    gradients = np.zeros( (amount_samples, 3))\n",
    "    totalvariation = np.zeros( (amount_samples, 3))\n",
    "    laplacians = np.zeros( (amount_samples, 1))\n",
    "\n",
    "    while head < amount_samples:        \n",
    "        if torch.is_tensor(samples):\n",
    "            inputs_subset = samples[head:min(head + max_batch, amount_samples), :]\n",
    "        else:\n",
    "\n",
    "            inputs_subset = torch.from_numpy(samples[head:min(head + max_batch, amount_samples), :]).float()\n",
    "            \n",
    "        inputs_subset = inputs_subset.to(device).unsqueeze(0)\n",
    "\n",
    "        x, y =  model(inputs_subset).values()\n",
    "        subset_grad = gradient(y,x)\n",
    "        gradients[head:min(head + max_batch, amount_samples)] = subset_grad.squeeze(0).detach().cpu().numpy()[..., :]\n",
    "        totalvariation[head:min(head + max_batch, amount_samples)] = gradient(subset_grad.norm(dim=-1), x ).squeeze(0).detach().cpu().numpy()\n",
    "        laplacians[head:min(head + max_batch, amount_samples)] = divergence( subset_grad, x ).squeeze(0).detach().cpu().numpy()[..., :]\n",
    "        evaluations[head:min(head + max_batch, amount_samples)] = y.squeeze(0).detach().cpu()\n",
    "        head += max_batch\n",
    "\n",
    "    return evaluations, gradients, laplacians, totalvariation\n",
    "\n",
    "model = SIREN(\n",
    "        n_in_features= 3,\n",
    "        n_out_features=1,\n",
    "        hidden_layer_config=[512,512,512,512],\n",
    "        w0=30,\n",
    "        ww=None,\n",
    "        activation= 'sine'\n",
    ")\n",
    "model.load_state_dict( torch.load('results/bunny/experiment/models/model_best.pth', weights_only=True))\n",
    "\n",
    "device = torch.device(1)\n",
    "model.to(device)\n",
    "\n",
    "N = 64\n",
    "xs, ys, zs = np.meshgrid( np.linspace(-1,1,N), np.linspace(-1,1,N), np.linspace(-1,1,N) )\n",
    "X = np.concatenate( [ xs.flatten()[...,None], ys.flatten()[...,None], zs.flatten()[...,None] ] , axis=1)\n",
    "\n",
    "fX, dfX, LfX, tv = evaluate(  model, X, device=device )"
   ]
  },
  {
   "cell_type": "markdown",
   "metadata": {},
   "source": [
    "## Autograd:"
   ]
  },
  {
   "cell_type": "code",
   "execution_count": null,
   "metadata": {},
   "outputs": [],
   "source": [
    "fig, axs = plt.subplots(2, 2, figsize=(10, 10))\n",
    "\n",
    "midPlaneMask = X[:,2] == -1 + (N//2 ) * (2/(N-1))\n",
    "midPlane = X[ midPlaneMask ]\n",
    "clip_val = min( np.abs(np.min(fX[midPlaneMask])), np.abs(np.max(fX[midPlaneMask])) )\n",
    "\n",
    "axs[0][0].scatter(midPlane[:,0], midPlane[:,1], c=fX[midPlaneMask], cmap='bwr', vmin=-clip_val, vmax= clip_val)\n",
    "axs[0][1].scatter(midPlane[:,0], midPlane[:,1], c=np.sum( dfX ** 2, axis=1)[midPlaneMask], cmap='plasma')\n",
    "axs[1][0].scatter(midPlane[:,0], midPlane[:,1], c=LfX[midPlaneMask], cmap='viridis')\n",
    "axs[1][1].scatter(midPlane[:,0], midPlane[:,1], c=np.linalg.norm(tv, axis=1)[midPlaneMask], cmap='hot')\n",
    "\n",
    "axs[0][0].set_title(r'$f(\\vec{x})$')\n",
    "axs[0][1].set_title(r'$\\left \\| \\nabla f(\\vec{x}) ) \\right \\|$')\n",
    "axs[1][0].set_title(r'$\\Delta f(\\vec{x})$')\n",
    "axs[1][1].set_title(r'$\\left \\| \\nabla \\left \\| \\nabla f(\\vec{x}) ) \\right \\|  \\right \\|$')\n",
    "\n",
    "plt.tight_layout()\n",
    "plt.show()"
   ]
  },
  {
   "cell_type": "markdown",
   "metadata": {},
   "source": [
    "## Discrete Neumann:"
   ]
  },
  {
   "cell_type": "code",
   "execution_count": null,
   "metadata": {},
   "outputs": [],
   "source": [
    "Gx, Gy, Gz = gridDx(N), gridDy(N), gridDz(N)\n",
    "discreteDfXx, discreteDfXy, discreteDfXz = Gx @ fX, Gy @ fX, Gz @ fX\n",
    "gradNorm = discreteDfXx.flatten() ** 2 + discreteDfXy.flatten() ** 2 + discreteDfXz.flatten() ** 2\n",
    "\n",
    "L = gridLaplacian( N )\n",
    "discreteLfX = L @ fX\n",
    "\n",
    "discreteTV = np.sqrt( (Gx @ gradNorm) ** 2 + (Gy @ gradNorm) ** 2 + (Gz @ gradNorm) ** 2 )\n",
    "\n",
    "fig, axs = plt.subplots(1, 3, figsize=(15, 5))\n",
    "clip_val = min( np.abs(np.min(fX)), np.abs(np.max(fX)) )\n",
    "\n",
    "K = 1\n",
    "midPlaneMaskNoBorders = (\n",
    "    midPlaneMask * \n",
    "    (X[:,0] > -1 + K * (2/(N-1))) * \n",
    "    (X[:,0] < 1- K * (2/(N-1))) * \n",
    "    (X[:,1] > -1 + K * (2/(N-1))) * \n",
    "    (X[:,1] < 1 - K * (2/(N-1)))\n",
    ")\n",
    "midPlaneNoBorders = X[midPlaneMaskNoBorders]\n",
    "\n",
    "axs[0].scatter(midPlaneNoBorders[:,0], midPlaneNoBorders[:,1], c=gradNorm[midPlaneMaskNoBorders], cmap='plasma')\n",
    "axs[1].scatter(midPlaneNoBorders[:,0], midPlaneNoBorders[:,1], c=discreteLfX[midPlaneMaskNoBorders], cmap='viridis')\n",
    "axs[2].scatter(midPlaneNoBorders[:,0], midPlaneNoBorders[:,1], c=discreteTV[midPlaneMaskNoBorders], cmap='hot')\n",
    "\n",
    "axs[0].set_title(r'$\\left \\| \\nabla f(\\vec{x}) ) \\right \\|$')\n",
    "axs[1].set_title(r'$\\Delta f(\\vec{x})$')\n",
    "axs[2].set_title(r'$\\left \\| \\nabla \\left \\| \\nabla f(\\vec{x}) ) \\right \\|  \\right \\|$')\n",
    "\n",
    "plt.tight_layout()\n",
    "plt.show()"
   ]
  },
  {
   "cell_type": "markdown",
   "metadata": {},
   "source": [
    "Diferencias:"
   ]
  },
  {
   "cell_type": "code",
   "execution_count": null,
   "metadata": {},
   "outputs": [],
   "source": [
    "fig, axs = plt.subplots(1, 3, figsize=(15, 5))\n",
    "\n",
    "e1 = np.abs( np.sum( dfX ** 2, axis=1)[midPlaneMaskNoBorders] - gradNorm[midPlaneMaskNoBorders])\n",
    "e2 = np.abs( LfX[midPlaneMaskNoBorders] - discreteLfX[midPlaneMaskNoBorders])\n",
    "e3 = np.abs( np.linalg.norm(tv, axis=1)[midPlaneMaskNoBorders] - discreteTV[midPlaneMaskNoBorders])\n",
    "\n",
    "axs[0].scatter(midPlaneNoBorders[:,0], midPlaneNoBorders[:,1], c=e1, cmap='Greys')\n",
    "axs[1].scatter(midPlaneNoBorders[:,0], midPlaneNoBorders[:,1], c=e2, cmap='Greys')\n",
    "axs[2].scatter(midPlaneNoBorders[:,0], midPlaneNoBorders[:,1], c=e3, cmap='Greys')\n",
    "\n",
    "axs[0].text(0.5, -0.9, f\"Error: {np.mean(e1):.2f}\")\n",
    "axs[1].text(0.5, -0.9, f\"Error: {np.mean(e2):.2f}\")\n",
    "axs[2].text(0.5, -0.9, f\"Error: {np.mean(e3):.2f}\")\n",
    "\n",
    "axs[0].set_title(r'$\\left \\| \\nabla f(\\vec{x}) ) \\right \\|$')\n",
    "axs[1].set_title(r'$\\Delta f(\\vec{x})$')\n",
    "axs[2].set_title(r'$\\left \\| \\nabla \\left \\| \\nabla f(\\vec{x}) ) \\right \\|  \\right \\|$')\n",
    "\n",
    "plt.tight_layout()\n",
    "plt.show()"
   ]
  },
  {
   "cell_type": "markdown",
   "metadata": {},
   "source": [
    "## Discrete second order"
   ]
  },
  {
   "cell_type": "code",
   "execution_count": null,
   "metadata": {},
   "outputs": [],
   "source": [
    "Gx, Gy, Gz = gridDx(N), gridDy(N), gridDz(N)\n",
    "Gxx, Gyy, Gzz = gridDxx(N), gridDyy(N), gridDzz(N)\n",
    "\n",
    "L = gridLaplacian( N )\n",
    "discreteLfX = L @ fX\n",
    "\n",
    "discreteLfXSO = Gxx @ fX + Gyy @ fX + Gzz @ fX\n",
    "\n",
    "discreteLfXFO = Gx @ Gx @ fX + Gy @ Gy @ fX + Gz @ Gz @ fX\n",
    "\n",
    "fig, axs = plt.subplots(1, 4, figsize=(20, 5))\n",
    "\n",
    "axs[0].scatter(midPlaneNoBorders[:,0], midPlaneNoBorders[:,1], c=LfX[midPlaneMaskNoBorders], cmap='plasma')\n",
    "axs[1].scatter(midPlaneNoBorders[:,0], midPlaneNoBorders[:,1], c=discreteLfX[midPlaneMaskNoBorders], cmap='plasma')\n",
    "axs[2].scatter(midPlaneNoBorders[:,0], midPlaneNoBorders[:,1], c=discreteLfXSO[midPlaneMaskNoBorders], cmap='plasma')\n",
    "axs[3].scatter(midPlaneNoBorders[:,0], midPlaneNoBorders[:,1], c=discreteLfXFO[midPlaneMaskNoBorders], cmap='plasma')\n",
    "\n",
    "axs[0].set_title(r'$\\Delta f(\\vec{x})$')\n",
    "axs[1].set_title(r'$L f(\\vec{x})$')\n",
    "axs[2].set_title(r'$\\partial_{xx}^2 f(\\vec{x}) + \\partial_{yy}^2 f(\\vec{x}) + \\partial_{zz}^2 f(\\vec{x})$')\n",
    "axs[3].set_title(r'$\\partial_x \\partial_x f(\\vec{x}) + \\partial_y \\partial_y f(\\vec{x}) + \\partial_z \\partial_z f(\\vec{x})$')\n",
    "\n",
    "plt.tight_layout()\n",
    "plt.show()"
   ]
  },
  {
   "cell_type": "code",
   "execution_count": null,
   "metadata": {},
   "outputs": [],
   "source": [
    "fig, axs = plt.subplots(1, 3, figsize=(15, 5))\n",
    "\n",
    "e1 = np.abs( LfX[midPlaneMaskNoBorders] - discreteLfX[midPlaneMaskNoBorders])\n",
    "e2 = np.abs( LfX[midPlaneMaskNoBorders] - discreteLfXSO[midPlaneMaskNoBorders])\n",
    "e3 = np.abs( LfX[midPlaneMaskNoBorders] - discreteLfXFO[midPlaneMaskNoBorders])\n",
    "\n",
    "axs[0].scatter(midPlaneNoBorders[:,0], midPlaneNoBorders[:,1], c=e1, cmap='Greys')\n",
    "axs[1].scatter(midPlaneNoBorders[:,0], midPlaneNoBorders[:,1], c=e2, cmap='Greys')\n",
    "axs[2].scatter(midPlaneNoBorders[:,0], midPlaneNoBorders[:,1], c=e3, cmap='Greys')\n",
    "\n",
    "axs[0].text(0.5, -0.9, f\"Error: {np.mean(e1):.2f}\")\n",
    "axs[1].text(0.5, -0.9, f\"Error: {np.mean(e2):.2f}\")\n",
    "axs[2].text(0.5, -0.9, f\"Error: {np.mean(e3):.2f}\")\n",
    "\n",
    "axs[0].set_title(r'$L f(\\vec{x})$')\n",
    "axs[1].set_title(r'$\\partial_{xx}^2 f(\\vec{x}) + \\partial_{yy}^2 f(\\vec{x}) + \\partial_{zz}^2 f(\\vec{x})$')\n",
    "axs[2].set_title(r'$\\partial_x \\partial_x f(\\vec{x}) + \\partial_y \\partial_y f(\\vec{x}) + \\partial_z \\partial_z f(\\vec{x})$')\n",
    "\n",
    "plt.tight_layout()\n",
    "plt.show()"
   ]
  },
  {
   "cell_type": "markdown",
   "metadata": {},
   "source": [
    "## Intrinsic operators"
   ]
  },
  {
   "cell_type": "code",
   "execution_count": null,
   "metadata": {},
   "outputs": [],
   "source": [
    "def normalmap( X, nx, ny, axis ):\n",
    "    norm = np.sqrt( nx ** 2 + ny ** 2 )\n",
    "    norm_nx = - ( nx ) / (norm)\n",
    "    norm_ny = - ( ny ) / (norm)\n",
    "    \n",
    "    angles = np.arctan2( -norm_nx, -norm_ny )\n",
    "    \n",
    "    norm = mcolors.Normalize(vmin=-np.pi, vmax=np.pi)\n",
    "    angles_normalized = norm(angles)\n",
    "    axis.scatter( X[:,0], X[:,1], c=angles_normalized, cmap='twilight' )"
   ]
  },
  {
   "cell_type": "code",
   "execution_count": null,
   "metadata": {},
   "outputs": [],
   "source": [
    "PGx, PGy, PGz = gridIntrinsicGradient( N, dfX )\n",
    "PGx_B, PGy_B, PGz_B = gridIntrinsicGradientBertalmio( N, fX )\n",
    "\n",
    "fig, axs = plt.subplots(1, 2, figsize=(10, 5))\n",
    "\n",
    "normalmap( midPlaneNoBorders, (PGx @ fX)[midPlaneMaskNoBorders], (PGy @ fX)[midPlaneMaskNoBorders], axs[0] )\n",
    "normalmap( midPlaneNoBorders, (PGx_B @ fX)[midPlaneMaskNoBorders], (PGy_B @ fX)[midPlaneMaskNoBorders], axs[1] )\n",
    "\n",
    "axs[0].set_title(r'$P_{\\nabla \\psi} \\nabla$')\n",
    "axs[1].set_title(r'$P_{\\nabla \\psi} \\nabla \\quad \\text{Bertalmio}$')\n",
    "\n",
    "plt.tight_layout()\n",
    "plt.show()"
   ]
  },
  {
   "cell_type": "code",
   "execution_count": null,
   "metadata": {},
   "outputs": [],
   "source": [
    "L = gridLaplaceBeltrami( N, dfX )\n",
    "LB = gridLaplaceBeltramiBertalmio( N, fX )\n",
    "\n",
    "fig, axs = plt.subplots(1, 2, figsize=(10, 5))\n",
    "\n",
    "axs[0].scatter(midPlaneNoBorders[:,0], midPlaneNoBorders[:,1], c=(L @ fX)[midPlaneMaskNoBorders], cmap='plasma')\n",
    "axs[1].scatter(midPlaneNoBorders[:,0], midPlaneNoBorders[:,1], c=(LB @ fX)[midPlaneMaskNoBorders], cmap='plasma')\n",
    "\n",
    "axs[0].set_title(r'$\\nabla \\cdot P_{\\nabla \\psi} \\nabla$')\n",
    "axs[1].set_title(r'$\\nabla \\cdot P_{\\nabla \\psi} \\nabla \\quad \\text{Bertalmio}$')\n",
    "\n",
    "plt.tight_layout()\n",
    "plt.show()"
   ]
  }
 ],
 "metadata": {
  "kernelspec": {
   "display_name": "tdf",
   "language": "python",
   "name": "python3"
  },
  "language_info": {
   "codemirror_mode": {
    "name": "ipython",
    "version": 3
   },
   "file_extension": ".py",
   "mimetype": "text/x-python",
   "name": "python",
   "nbconvert_exporter": "python",
   "pygments_lexer": "ipython3",
   "version": "3.10.13"
  }
 },
 "nbformat": 4,
 "nbformat_minor": 2
}
